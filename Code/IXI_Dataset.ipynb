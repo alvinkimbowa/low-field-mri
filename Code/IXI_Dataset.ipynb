{
  "nbformat": 4,
  "nbformat_minor": 0,
  "metadata": {
    "colab": {
      "provenance": [],
      "authorship_tag": "ABX9TyM8wg6hOPgyzyH9vn/smU7h",
      "include_colab_link": true
    },
    "kernelspec": {
      "name": "python3",
      "display_name": "Python 3"
    },
    "language_info": {
      "name": "python"
    }
  },
  "cells": [
    {
      "cell_type": "markdown",
      "metadata": {
        "id": "view-in-github",
        "colab_type": "text"
      },
      "source": [
        "<a href=\"https://colab.research.google.com/github/alvinkimbowa/low-field-mri/blob/main/Code/IXI_Dataset.ipynb\" target=\"_parent\"><img src=\"https://colab.research.google.com/assets/colab-badge.svg\" alt=\"Open In Colab\"/></a>"
      ]
    },
    {
      "cell_type": "markdown",
      "source": [
        "# Download IXI Dataset\n",
        "Here we download only the T2W images.\n",
        "\n",
        "Uncomment next cell to download."
      ],
      "metadata": {
        "id": "R0Caorzwxsi6"
      }
    },
    {
      "cell_type": "code",
      "execution_count": null,
      "metadata": {
        "id": "JFFptfEOu7eM"
      },
      "outputs": [],
      "source": [
        "# !wget http://biomedic.doc.ic.ac.uk/brain-development/downloads/IXI/IXI-T2.tar"
      ]
    },
    {
      "cell_type": "markdown",
      "source": [
        "# Save the data to Google Drive"
      ],
      "metadata": {
        "id": "PCyUWAKRx7pg"
      }
    },
    {
      "cell_type": "code",
      "source": [
        "from google.colab import drive\n",
        "drive.mount('/content/drive', force_remount=True)\n",
        "\n",
        "!ln -s '/content/drive/My Drive/Low Field MRI' /mydrive"
      ],
      "metadata": {
        "colab": {
          "base_uri": "https://localhost:8080/"
        },
        "id": "2cVpX1Lvv9N8",
        "outputId": "d07ad45b-c7a0-4dee-ab54-02fbf5a2ed7d"
      },
      "execution_count": null,
      "outputs": [
        {
          "output_type": "stream",
          "name": "stdout",
          "text": [
            "Mounted at /content/drive\n"
          ]
        }
      ]
    },
    {
      "cell_type": "code",
      "source": [
        "# Save the data to Google Drive\n",
        "# !cp IXI-T2.tar '/mydrive/Datasets/IXI Brain dataset'"
      ],
      "metadata": {
        "id": "xjaupkhHvXdm"
      },
      "execution_count": null,
      "outputs": []
    },
    {
      "cell_type": "markdown",
      "source": [
        "# Obtain data from drive"
      ],
      "metadata": {
        "id": "qd0eSGRnyYTZ"
      }
    },
    {
      "cell_type": "code",
      "source": [
        "!cp '/mydrive/Datasets/IXI Brain dataset/IXI-T2.tar' /content\n",
        "\n",
        "# Untar data\n",
        "dst = 'IXI-T2'\n",
        "!rm -r '{dst}'\n",
        "!mkdir '{dst}'\n",
        "!tar -xf \"IXI-T2.tar\" -C \"{dst}\""
      ],
      "metadata": {
        "id": "r6qxyeBV0zXJ"
      },
      "execution_count": null,
      "outputs": []
    },
    {
      "cell_type": "code",
      "source": [],
      "metadata": {
        "id": "H_qjSPyv19Wv"
      },
      "execution_count": null,
      "outputs": []
    }
  ]
}